{
  "nbformat": 4,
  "nbformat_minor": 0,
  "metadata": {
    "colab": {
      "provenance": [],
      "authorship_tag": "ABX9TyPbDwT1IYjlPOUdNIgIGz8r",
      "include_colab_link": true
    },
    "kernelspec": {
      "name": "python3",
      "display_name": "Python 3"
    },
    "language_info": {
      "name": "python"
    },
    "accelerator": "GPU",
    "gpuClass": "standard"
  },
  "cells": [
    {
      "cell_type": "markdown",
      "metadata": {
        "id": "view-in-github",
        "colab_type": "text"
      },
      "source": [
        "<a href=\"https://colab.research.google.com/github/SMBH-1/tbd/blob/main/DL_Project_Age_And_Side_Effects.ipynb\" target=\"_parent\"><img src=\"https://colab.research.google.com/assets/colab-badge.svg\" alt=\"Open In Colab\"/></a>"
      ]
    },
    {
      "cell_type": "code",
      "execution_count": null,
      "metadata": {
        "id": "N5RRL8zWcBBg"
      },
      "outputs": [],
      "source": [
        "import numpy as np\n",
        "from random import randint\n",
        "from sklearn.utils import shuffle\n",
        "from sklearn.preprocessing import MinMaxScaler\n",
        "\n",
        "\n",
        "train_labels = []\n",
        "train_samples = []"
      ]
    },
    {
      "cell_type": "code",
      "source": [
        "for i in range(50): #5% of 1000 individuals = 50\n",
        "\n",
        "  #The 5% of YOUNGER individuals who DID experience side effects\n",
        "  random_younger = randint(13,64)\n",
        "  train_samples.append(random_younger)\n",
        "  train_labels.append(1)\n",
        "\n",
        "  #The 5% of OLDER individuals who DID NOT experience side effects\n",
        "  random_older = randint(65,100)\n",
        "  train_samples.append(random_older)\n",
        "  train_labels.append(0)\n",
        "\n",
        "for i in range(1000):\n",
        "  #The 95% YOUNGER individuals who DID NOT experience side effects\n",
        "  random_younger = randint(13,64)\n",
        "  train_samples.append(random_younger)\n",
        "  train_labels.append(0)\n",
        "\n",
        "  #The 95% of OLDER individuals who DID experience side effects\n",
        "  random_older = randint(65,100)\n",
        "  train_samples.append(random_older)\n",
        "  train_labels.append(1)\n",
        "\n",
        "for i in train_samples:\n",
        "  print(i)"
      ],
      "metadata": {
        "id": "Zcz845dQdawo"
      },
      "execution_count": null,
      "outputs": []
    },
    {
      "cell_type": "code",
      "source": [
        "for i in train_labels:\n",
        "  print(i)"
      ],
      "metadata": {
        "id": "6l2WtwVOfDkz"
      },
      "execution_count": null,
      "outputs": []
    },
    {
      "cell_type": "code",
      "source": [
        "#Convert to numpy array as fit function expects & shuffle to remove any imposed order\n",
        "train_labels = np.array(train_labels)\n",
        "train_samples = np.array(train_samples)\n",
        "train_labels, train_samples = shuffle(train_labels, train_samples)"
      ],
      "metadata": {
        "id": "P_bLafuufJpV"
      },
      "execution_count": null,
      "outputs": []
    },
    {
      "cell_type": "code",
      "source": [
        "#Rescale data from 13-100 to 0-1 to make calculations faster\n",
        "scaler = MinMaxScaler(feature_range=(0,1))\n",
        "scaled_train_samples = scaler.fit_transform(train_samples.reshape(-1,1))"
      ],
      "metadata": {
        "id": "MKxAEDCifTHb"
      },
      "execution_count": null,
      "outputs": []
    },
    {
      "cell_type": "code",
      "source": [
        "for i in scaled_train_samples:\n",
        "  print(i)"
      ],
      "metadata": {
        "id": "_nqgsCu0fuQU"
      },
      "execution_count": null,
      "outputs": []
    },
    {
      "cell_type": "markdown",
      "source": [
        "1.   We have generated some raw data\n",
        "2.   Processed it to be in a NumPy array format as expected by our model\n",
        "3.   Scaled data to be between 0-1"
      ],
      "metadata": {
        "id": "jhXpI11wgIrC"
      }
    },
    {
      "cell_type": "code",
      "source": [
        "import tensorflow as tf\n",
        "from tensorflow import keras\n",
        "from keras.models import Sequential\n",
        "from keras.layers import Activation, Dense\n",
        "from keras.optimizers import Adam\n",
        "from keras.metrics import categorical_crossentropy"
      ],
      "metadata": {
        "id": "yDLUMLAKgB5A"
      },
      "execution_count": null,
      "outputs": []
    },
    {
      "cell_type": "code",
      "source": [
        "physical_devices = tf.config.experimental.list_physical_devices('GPU')\n",
        "print('Num GPUs Available: ', len(physical_devices))\n",
        "tf.config.experimental.set_memory_growth(physical_devices[0], True)"
      ],
      "metadata": {
        "colab": {
          "base_uri": "https://localhost:8080/"
        },
        "id": "Zi1XnTJMhAZn",
        "outputId": "a6c004e1-75a6-4771-8748-bf93fc898db6"
      },
      "execution_count": null,
      "outputs": [
        {
          "output_type": "stream",
          "name": "stdout",
          "text": [
            "Num GPUs Available:  1\n"
          ]
        }
      ]
    },
    {
      "cell_type": "code",
      "source": [
        "#Now to build model (Sequential Model - one of the simplest types using Keras/TF)\n",
        "\n",
        "model = Sequential([\n",
        "    Dense(units = 16, input_shape = (1,), activation='relu'), #Second layer overall (first hidden layer); input shape param tells what type of input data to expect; 16 neurons\n",
        "    Dense(units = 128, activation = 'relu'), #2nd hidden layer; arbitrary choice for 32 neurons\n",
        "    Dense(units = 64, activation = 'relu'), #3rd hidden layer; arbitrary choice for 32 neurons\n",
        "    Dense(units = 32, activation = 'relu'), #4th hidden layer; arbitrary choice for 32 neurons\n",
        "    Dense(units = 2, activation='softmax') #output layer w/ softmax func (gives probabilities) - binary choice whether they did or didn't experience side effects\n",
        "])"
      ],
      "metadata": {
        "id": "vgZGalqwhTW1"
      },
      "execution_count": null,
      "outputs": []
    },
    {
      "cell_type": "code",
      "source": [
        "model.summary()"
      ],
      "metadata": {
        "colab": {
          "base_uri": "https://localhost:8080/"
        },
        "id": "wK-NbzavhlwH",
        "outputId": "28604aab-5923-4dd7-f65f-dae158d5ee2e"
      },
      "execution_count": null,
      "outputs": [
        {
          "output_type": "stream",
          "name": "stdout",
          "text": [
            "Model: \"sequential\"\n",
            "_________________________________________________________________\n",
            " Layer (type)                Output Shape              Param #   \n",
            "=================================================================\n",
            " dense (Dense)               (None, 16)                32        \n",
            "                                                                 \n",
            " dense_1 (Dense)             (None, 128)               2176      \n",
            "                                                                 \n",
            " dense_2 (Dense)             (None, 64)                8256      \n",
            "                                                                 \n",
            " dense_3 (Dense)             (None, 32)                2080      \n",
            "                                                                 \n",
            " dense_4 (Dense)             (None, 2)                 66        \n",
            "                                                                 \n",
            "=================================================================\n",
            "Total params: 12,610\n",
            "Trainable params: 12,610\n",
            "Non-trainable params: 0\n",
            "_________________________________________________________________\n"
          ]
        }
      ]
    },
    {
      "cell_type": "code",
      "source": [
        "#Now to train the data that we've processed. Model needs to be compiled then fit (trained).\n",
        "\n",
        "model.compile(optimizer=Adam(learning_rate=0.0001), loss='sparse_categorical_crossentropy', metrics=['accuracy'])"
      ],
      "metadata": {
        "id": "L7kVhyM3iRsZ"
      },
      "execution_count": null,
      "outputs": []
    },
    {
      "cell_type": "code",
      "source": [
        "model.fit(x=scaled_train_samples, y=train_labels, validation_split=0.1, batch_size=60, epochs=5, shuffle=True, verbose=2)"
      ],
      "metadata": {
        "id": "vdg4BZIOjH-Y",
        "colab": {
          "base_uri": "https://localhost:8080/"
        },
        "outputId": "cc4d02ef-3682-4bf2-9a5b-84ff1f46e7de"
      },
      "execution_count": null,
      "outputs": [
        {
          "output_type": "stream",
          "name": "stdout",
          "text": [
            "Epoch 1/5\n",
            "63/63 - 0s - loss: 0.1958 - accuracy: 0.9476 - val_loss: 0.2169 - val_accuracy: 0.9452 - 191ms/epoch - 3ms/step\n",
            "Epoch 2/5\n",
            "63/63 - 0s - loss: 0.1957 - accuracy: 0.9505 - val_loss: 0.2205 - val_accuracy: 0.9357 - 160ms/epoch - 3ms/step\n",
            "Epoch 3/5\n",
            "63/63 - 0s - loss: 0.1960 - accuracy: 0.9492 - val_loss: 0.2183 - val_accuracy: 0.9452 - 179ms/epoch - 3ms/step\n",
            "Epoch 4/5\n",
            "63/63 - 0s - loss: 0.1966 - accuracy: 0.9508 - val_loss: 0.2221 - val_accuracy: 0.9357 - 164ms/epoch - 3ms/step\n",
            "Epoch 5/5\n",
            "63/63 - 0s - loss: 0.1962 - accuracy: 0.9489 - val_loss: 0.2165 - val_accuracy: 0.9452 - 169ms/epoch - 3ms/step\n"
          ]
        },
        {
          "output_type": "execute_result",
          "data": {
            "text/plain": [
              "<keras.callbacks.History at 0x7fae0612e280>"
            ]
          },
          "metadata": {},
          "execution_count": 29
        }
      ]
    },
    {
      "cell_type": "code",
      "source": [
        "#Set up test samples\n",
        "\n",
        "test_labels = []\n",
        "test_samples = []\n",
        "\n",
        "for i in range(10):\n",
        "\n",
        "  #The 5% of younger individuals who did experience side effects\n",
        "  random_younger = randint(13,64)\n",
        "  test_samples.append(random_younger)\n",
        "  test_labels.append(1)\n",
        "\n",
        "  #The 5% of older individuals who did not experience side effects\n",
        "  random_older = randint(65,100)\n",
        "  test_samples.append(random_older)\n",
        "  test_labels.append(0)\n",
        "\n",
        "for i in range(1000):\n",
        "  #The 95% younger individuals who did not experience side effects\n",
        "  random_younger = randint(13,64)\n",
        "  test_samples.append(random_younger)\n",
        "  test_labels.append(0)\n",
        "\n",
        "  random_older = randint(65,100)\n",
        "  test_samples.append(random_older)\n",
        "  test_labels.append(1)\n",
        "\n",
        "print(len(test_labels))\n",
        "print(len(test_samples))"
      ],
      "metadata": {
        "colab": {
          "base_uri": "https://localhost:8080/"
        },
        "id": "UUiaZlJikxo_",
        "outputId": "01148e2a-8a3d-4f5b-c89c-a7e41cc1cbed"
      },
      "execution_count": null,
      "outputs": [
        {
          "output_type": "stream",
          "name": "stdout",
          "text": [
            "2020\n",
            "2020\n"
          ]
        }
      ]
    },
    {
      "cell_type": "code",
      "source": [
        "test_labels = np.array(test_labels)\n",
        "test_samples = np.array(test_samples)\n",
        "test_labels, test_samples = shuffle(test_labels, test_samples)\n",
        "\n",
        "scaled_test_samples = scaler.fit_transform(test_samples.reshape(-1,1))"
      ],
      "metadata": {
        "id": "1sEr05aZjwPh"
      },
      "execution_count": null,
      "outputs": []
    },
    {
      "cell_type": "code",
      "source": [
        "#Predict\n",
        "\n",
        "predictions = model.predict(x=scaled_train_samples, batch_size=10, verbose=0)\n",
        "#print(len(predictions))\n",
        "for i in predictions:\n",
        "  print(i)"
      ],
      "metadata": {
        "id": "okvI0XUimBv2"
      },
      "execution_count": null,
      "outputs": []
    },
    {
      "cell_type": "code",
      "source": [
        "rounded_predictions = np.argmax(predictions, axis=-1)\n",
        "for i in rounded_predictions:\n",
        "  print(i)"
      ],
      "metadata": {
        "id": "dYHq51EgmTt4"
      },
      "execution_count": null,
      "outputs": []
    },
    {
      "cell_type": "code",
      "source": [
        "%matplotlib inline\n",
        "from sklearn.metrics import confusion_matrix\n",
        "import itertools\n",
        "import matplotlib.pyplot as plt"
      ],
      "metadata": {
        "id": "cznC8D1Qo-3l"
      },
      "execution_count": null,
      "outputs": []
    },
    {
      "cell_type": "code",
      "source": [
        "rounded_predictions = rounded_predictions.reshape(2020)\n",
        "cm = confusion_matrix(y_true=test_labels, y_pred=rounded_predictions) #called from sklearn"
      ],
      "metadata": {
        "id": "18m6dnWYerGs"
      },
      "execution_count": null,
      "outputs": []
    },
    {
      "cell_type": "code",
      "source": [
        "def plot_confusion_matrix(cm, classes,\n",
        "                          normalize=False,\n",
        "                          title='Confusion matrix',\n",
        "                          cmap=plt.cm.Blues):\n",
        "  plt.imshow(cm, interpolation='nearest', cmap=cmap)\n",
        "  plt.title(title)\n",
        "  plt.colorbar()\n",
        "  tick_marks= np.arrange(len(classes))\n",
        "  plt.xticks(tick_marks, classes, rotation=45)\n",
        "  plt.yticks(tick_marks, classes)\n",
        "\n",
        "  if normalize:\n",
        "    cm = cm.astype('float')/cm.sum(axis=1)[:, np.newaxis]\n",
        "    print('Normalized confusion matrix')\n",
        "  else:\n",
        "    print('Confusion matrix, without normalization')\n",
        "  \n",
        "  print(cm)\n",
        "\n",
        "  thresh = cm.max()/2\n",
        "  for i,j in itertools.product(range(cm.shape[0]), range(cm.shape[1])):\n",
        "    plt.text(j, i, cm[i,j],\n",
        "             horizontalalignment='center',\n",
        "             color='white' if cm[i,j] > thresh else 'black')\n",
        "  \n",
        "  plt.tight_layout()\n",
        "  plt.ylabel('True label')\n",
        "  plt.xlabel('Predicted label')"
      ],
      "metadata": {
        "id": "9hGsmYpUpIwN"
      },
      "execution_count": null,
      "outputs": []
    },
    {
      "cell_type": "code",
      "source": [
        "cm_plot_labels = ['no_side_effects', 'had_side_effets']\n",
        "plot_confusion_matrix(cm=cm, classes=cm_plot_labels, title='Confusion Matrix')"
      ],
      "metadata": {
        "id": "5XPFLC9Feyf-"
      },
      "execution_count": null,
      "outputs": []
    },
    {
      "cell_type": "code",
      "source": [],
      "metadata": {
        "id": "TDZxB9vC0K55"
      },
      "execution_count": null,
      "outputs": []
    }
  ]
}