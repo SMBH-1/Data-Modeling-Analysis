{
  "nbformat": 4,
  "nbformat_minor": 0,
  "metadata": {
    "colab": {
      "provenance": [],
      "authorship_tag": "ABX9TyPRu+QZVwvmDXJiR/UAw8TK",
      "include_colab_link": true
    },
    "kernelspec": {
      "name": "python3",
      "display_name": "Python 3"
    },
    "language_info": {
      "name": "python"
    }
  },
  "cells": [
    {
      "cell_type": "markdown",
      "metadata": {
        "id": "view-in-github",
        "colab_type": "text"
      },
      "source": [
        "<a href=\"https://colab.research.google.com/github/SMBH-1/tbd/blob/main/DL_Project_Health_Insurance_Costs.ipynb\" target=\"_parent\"><img src=\"https://colab.research.google.com/assets/colab-badge.svg\" alt=\"Open In Colab\"/></a>"
      ]
    },
    {
      "cell_type": "code",
      "execution_count": null,
      "metadata": {
        "colab": {
          "base_uri": "https://localhost:8080/"
        },
        "id": "SP2Wv79NJo4t",
        "outputId": "318d0a9a-70a7-4abe-c6cf-568f6d842cac"
      },
      "outputs": [
        {
          "output_type": "stream",
          "name": "stdout",
          "text": [
            "79\n",
            "1\n"
          ]
        }
      ],
      "source": [
        "class Perceptron:\n",
        "  def __init__(self, num_inputs=2, weights=[1,1]):\n",
        "    self.num_inputs = num_inputs\n",
        "    self.weights = weights\n",
        "    \n",
        "  def weighted_sum(self, inputs):\n",
        "    weighted_sum = 0\n",
        "    for i in range(self.num_inputs):\n",
        "      weighted_sum += self.weights[i]*inputs[i]\n",
        "    return weighted_sum\n",
        "  \n",
        "  def activation(self, weighted_sum):\n",
        "    if weighted_sum >= 0:\n",
        "      return 1\n",
        "    else:\n",
        "      return -1\n",
        "\n",
        "cool_perceptron = Perceptron()\n",
        "\n",
        "cool_weighted_sum = cool_perceptron.weighted_sum([24, 55])\n",
        "\n",
        "print(cool_weighted_sum)\n",
        "\n",
        "print(cool_perceptron.activation(cool_weighted_sum))\n"
      ]
    },
    {
      "cell_type": "code",
      "source": [
        "import matplotlib.pyplot as plt\n",
        "import random\n",
        "\n",
        "def generate_training_set(num_points):\n",
        "\tx_coordinates = [random.randint(0, 50) for i in range(num_points)]\n",
        "\ty_coordinates = [random.randint(0, 50) for i in range(num_points)]\n",
        "\ttraining_set = dict() \n",
        "\tfor x, y in zip(x_coordinates, y_coordinates):\n",
        "\t\tif x <= 45-y:\n",
        "\t\t\ttraining_set[(x,y)] = 1\n",
        "\t\telif x > 45-y:\n",
        "\t\t\ttraining_set[(x,y)] = -1\n",
        "\treturn training_set\n",
        "\n",
        "training_set = generate_training_set(30)\n",
        "print(training_set)"
      ],
      "metadata": {
        "colab": {
          "base_uri": "https://localhost:8080/"
        },
        "id": "KQpVl2_sRu6P",
        "outputId": "95f504c0-f61e-4e91-cddd-b9af0675c6d7"
      },
      "execution_count": null,
      "outputs": [
        {
          "output_type": "stream",
          "name": "stdout",
          "text": [
            "{(38, 47): -1, (11, 31): 1, (5, 9): 1, (29, 48): -1, (13, 2): 1, (48, 30): -1, (42, 35): -1, (13, 0): 1, (34, 43): -1, (15, 31): -1, (30, 22): -1, (34, 39): -1, (5, 14): 1, (6, 39): 1, (7, 50): -1, (45, 8): -1, (5, 0): 1, (13, 17): 1, (0, 17): 1, (27, 2): 1, (45, 28): -1, (18, 5): 1, (50, 37): -1, (18, 3): 1, (9, 45): -1, (18, 36): -1, (49, 50): -1, (25, 38): -1, (43, 49): -1}\n"
          ]
        }
      ]
    },
    {
      "cell_type": "code",
      "source": [
        "x_plus = []\n",
        "y_plus = []\n",
        "x_minus = []\n",
        "y_minus = []\n",
        "\n",
        "for data in training_set:\n",
        "\tif training_set[data] == 1:\n",
        "\t\tx_plus.append(data[0])\n",
        "\t\ty_plus.append(data[1])\n",
        "\telif training_set[data] == -1:\n",
        "\t\tx_minus.append(data[0])\n",
        "\t\ty_minus.append(data[1])\n",
        "    \n",
        "fig = plt.figure()\n",
        "ax = plt.axes(xlim=(-25, 75), ylim=(-25, 75))\n",
        "\n",
        "plt.scatter(x_plus, y_plus, marker = '+', c = 'green', s = 128, linewidth = 2)\n",
        "plt.scatter(x_minus, y_minus, marker = '_', c = 'red', s = 128, linewidth = 2)\n",
        "\n",
        "plt.title(\"Training Set\")\n",
        "\n",
        "plt.show()"
      ],
      "metadata": {
        "colab": {
          "base_uri": "https://localhost:8080/",
          "height": 281
        },
        "id": "U0G4V_FCR2pa",
        "outputId": "a9628ecd-cf7c-4b70-c883-28cffe3753b6"
      },
      "execution_count": null,
      "outputs": [
        {
          "output_type": "display_data",
          "data": {
            "text/plain": [
              "<Figure size 432x288 with 1 Axes>"
            ],
            "image/png": "[encoded data removed]"
          },
          "metadata": {
            "needs_background": "light"
          }
        }
      ]
    },
    {
      "cell_type": "code",
      "source": [
        "class Perceptron:\n",
        "  def __init__(self, num_inputs=2, weights=[1,1]):\n",
        "    self.num_inputs = num_inputs\n",
        "    self.weights = weights\n",
        "    \n",
        "  def weighted_sum(self, inputs):\n",
        "    weighted_sum = 0\n",
        "    for i in range(self.num_inputs):\n",
        "      weighted_sum += self.weights[i]*inputs[i]\n",
        "    return weighted_sum\n",
        "  \n",
        "  def activation(self, weighted_sum):\n",
        "    if weighted_sum >= 0:\n",
        "      return 1\n",
        "    if weighted_sum < 0:\n",
        "      return -1\n",
        "    \n",
        "  def training(self, training_set):\n",
        "    for inputs in training_set:\n",
        "      prediction = self.activation(self.weighted_sum(inputs))\n",
        "      actual = training_set[inputs]\n",
        "      error = actual - prediction\n",
        "\n",
        "\n",
        "\n",
        "print(cool_perceptron.weighted_sum([24, 55]))\n",
        "print(cool_perceptron.activation(52))"
      ],
      "metadata": {
        "colab": {
          "base_uri": "https://localhost:8080/"
        },
        "id": "IwoZIV0YVLF_",
        "outputId": "00aa5ca7-84b1-4baa-a113-a72532c0052e"
      },
      "execution_count": null,
      "outputs": [
        {
          "output_type": "stream",
          "name": "stdout",
          "text": [
            "79\n",
            "1\n"
          ]
        }
      ]
    },
    {
      "cell_type": "code",
      "source": [
        "from sklearn.linear_model import Perceptron\n",
        "import matplotlib.pyplot as plt\n",
        "import matplotlib.animation as animation\n",
        "import random\n",
        "\n",
        "\n",
        "\n",
        "class Perceptron:\n",
        "  def __init__(self, num_inputs=3, weights=[1,1,1]):\n",
        "    self.num_inputs = num_inputs\n",
        "    self.weights = weights\n",
        "    \n",
        "  def weighted_sum(self, inputs):\n",
        "    weighted_sum = 0\n",
        "    for i in range(self.num_inputs):\n",
        "      weighted_sum += self.weights[i]*inputs[i]\n",
        "    return weighted_sum\n",
        "  \n",
        "  def activation(self, weighted_sum):\n",
        "    if weighted_sum >= 0:\n",
        "      return 1\n",
        "    if weighted_sum < 0:\n",
        "      return -1\n",
        "    \n",
        "  def training(self, training_set):\n",
        "    foundLine = False\n",
        "    while not foundLine:\n",
        "      total_error = 0\n",
        "      for inputs in training_set:\n",
        "        prediction = self.activation(self.weighted_sum(inputs))\n",
        "        actual = training_set[inputs]\n",
        "        error = actual - prediction\n",
        "        total_error += abs(error)\n",
        "        for i in range(self.num_inputs):\n",
        "          self.weights[i] += error*inputs[i]         \n",
        "      if total_error == 0:\n",
        "        foundLine = True\n",
        "\n",
        "cool_perceptron = Perceptron()\n",
        "small_training_set = {(0,3):1, (3,0):-1, (0,-3):-1, (-3,0):1}\n",
        "cool_perceptron.training(small_training_set)"
      ],
      "metadata": {
        "id": "3D8vCUDbrRyN"
      },
      "execution_count": null,
      "outputs": []
    },
    {
      "cell_type": "code",
      "source": [],
      "metadata": {
        "id": "QyiH9_G5CMgm"
      },
      "execution_count": null,
      "outputs": []
    },
    {
      "cell_type": "code",
      "source": [
        "def generate_training_set(num_points):\n",
        "\tx_coordinates = [random.randint(0, 50) for i in range(num_points)]\n",
        "\ty_coordinates = [random.randint(0, 50) for i in range(num_points)]\n",
        "\ttraining_set = dict()\n",
        "\tfor x, y in zip(x_coordinates, y_coordinates):\n",
        "\t\tif x <= 45-y:\n",
        "\t\t\ttraining_set[(x,y,1)] = 1\n",
        "\t\telif x > 45-y:\n",
        "\t\t\ttraining_set[(x,y,1)] = -1\n",
        "\treturn training_set\n",
        "\n",
        "training_set = generate_training_set(30)\n",
        "\n",
        "x_plus = []\n",
        "y_plus = []\n",
        "x_minus = []\n",
        "y_minus = []\n",
        "\n",
        "for data in training_set:\n",
        "\tif training_set[data] == 1:\n",
        "\t\tx_plus.append(data[0])\n",
        "\t\ty_plus.append(data[1])\n",
        "\telif training_set[data] == -1:\n",
        "\t\tx_minus.append(data[0])\n",
        "\t\ty_minus.append(data[1])\n",
        "\n",
        "perceptron = Perceptron()\n",
        "perceptron.training(training_set)\n",
        "\n",
        "fig = plt.figure()\n",
        "ax = plt.axes(xlim=(-25, 75), ylim=(-25, 75))\n",
        "line, = ax.plot([], [], lw=2)\n",
        "\n",
        "fig.patch.set_facecolor('#ffc107')\n",
        "\n",
        "plt.scatter(x_plus, y_plus, marker = '+', c = 'green', s = 128, linewidth = 2)\n",
        "plt.scatter(x_minus, y_minus, marker = '_', c = 'red', s = 128, linewidth = 2)\n",
        "\n",
        "plt.title('Iteration: 0')\n",
        "\n",
        "\n",
        "def animate(i):\n",
        "    print(i)\n",
        "    line.set_xdata(lines[i][0])  # update the data\n",
        "    line.set_ydata(lines[i][1])  # update the data\n",
        "    return line,\n",
        "\n",
        "def init():\n",
        "    line.set_data([], [])\n",
        "    return line,\n",
        "\n",
        "ani = animation.FuncAnimation(fig, animate, frames=1, init_func=init, interval=50, blit=True, repeat=False)\n",
        "\n",
        "plt.show()"
      ],
      "metadata": {
        "colab": {
          "base_uri": "https://localhost:8080/",
          "height": 281
        },
        "id": "zFHojySUsS_i",
        "outputId": "4453c737-cc1e-476d-e13b-d9d2f917d516"
      },
      "execution_count": null,
      "outputs": [
        {
          "output_type": "display_data",
          "data": {
            "text/plain": [
              "<Figure size 432x288 with 1 Axes>"
            ],
            "image/png": "[encoded data removed]"
          },
          "metadata": {}
        }
      ]
    },
    {
      "cell_type": "code",
      "source": [
        "from sklearn.linear_model import Perceptron\n",
        "import matplotlib.pyplot as plt\n",
        "import numpy as np\n",
        "from itertools import product\n",
        "\n",
        "data = [[0,0], [1,0], [0,1], [1,1]]\n",
        "labels = [0, 0, 0, 1]\n",
        "\n",
        "plt.scatter([point[0] for point in data], [point[1] for point in data], c = labels)\n",
        "\n",
        "classifier = Perceptron(max_iter=40)\n",
        "classifier.fit(data, labels)\n",
        "\n",
        "#print(classifier.score(data, labels))\n",
        "print(classifier.decision_function([[0,0], [1,1], [0.5,0.5]]))\n",
        "\n",
        "x_values = np.linspace(0,1,100)\n",
        "y_values = np.linspace(0,1,100)\n",
        "\n",
        "point_grid = list(product(x_values, y_values))\n",
        "\n",
        "distances = classifier.decision_function(point_grid)\n",
        "\n",
        "abs_distances = [abs(pt) for pt in distances]\n",
        "\n",
        "distances_matrix = np.reshape(abs_distances, (100,100))\n",
        "\n",
        "heatmap = plt.pcolormesh(x_values, y_values, distances_matrix)\n",
        "\n",
        "plt.colorbar(heatmap)\n",
        "\n",
        "plt.show()\n"
      ],
      "metadata": {
        "colab": {
          "base_uri": "https://localhost:8080/",
          "height": 286
        },
        "id": "5_UcElXky0PA",
        "outputId": "8ded27e9-dcdd-4bd1-a01f-70f0d2049967"
      },
      "execution_count": null,
      "outputs": [
        {
          "output_type": "stream",
          "name": "stdout",
          "text": [
            "[-2.  2.  0.]\n"
          ]
        },
        {
          "output_type": "display_data",
          "data": {
            "text/plain": [
              "<Figure size 432x288 with 2 Axes>"
            ],
            "image/png": "[encoded data removed]"
          },
          "metadata": {
            "needs_background": "light"
          }
        }
      ]
    },
    {
      "cell_type": "code",
      "source": [
        "dataset = pd.read_csv('insurance.csv') #load the dataset\n",
        "features = dataset.iloc[:,0:6] #choose first 7 columns as features\n",
        "labels = dataset.iloc[:,-1] #choose the final column for prediction\n",
        "\n",
        "features = pd.get_dummies(features) #one-hot encoding for categorical variables\n",
        "features_train, features_test, labels_train, labels_test = train_test_split(features, labels, test_size=0.33, random_state=42) #split the data into training and test data\n",
        " \n",
        "#standardize\n",
        "ct = ColumnTransformer([('standardize', StandardScaler(), ['age', 'bmi', 'children'])], remainder='passthrough')\n",
        "features_train = ct.fit_transform(features_train)\n",
        "features_test = ct.transform(features_test)\n",
        "\n",
        "#invoke the function for our model design\n",
        "model = design_model(features_train)\n",
        "print(model.summary())\n",
        "\n",
        "#fit the model using 40 epochs and batch size 1\n",
        "model.fit(features_train, labels_train, epochs=40, batch_size=1,verbose=1)\n",
        "\n",
        "\n",
        "#evaluate the model on the test data\n",
        "val_mse, val_mae = model.evaluate(features_test, labels_test, verbose=0) \n",
        " \n",
        "print(\"MAE: \", val_mae)"
      ],
      "metadata": {
        "id": "ln6GHTvgCOad"
      },
      "execution_count": null,
      "outputs": []
    }
  ]
}