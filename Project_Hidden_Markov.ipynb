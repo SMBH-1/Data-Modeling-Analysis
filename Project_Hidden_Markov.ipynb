{
  "nbformat": 4,
  "nbformat_minor": 0,
  "metadata": {
    "colab": {
      "provenance": [],
      "authorship_tag": "ABX9TyMBMAEG2AldCGFPP7wAoLDL",
      "include_colab_link": true
    },
    "kernelspec": {
      "name": "python3",
      "display_name": "Python 3"
    },
    "language_info": {
      "name": "python"
    }
  },
  "cells": [
    {
      "cell_type": "markdown",
      "metadata": {
        "id": "view-in-github",
        "colab_type": "text"
      },
      "source": [
        "<a href=\"https://colab.research.google.com/github/SMBH-1/tbd/blob/main/Project_Hidden_Markov.ipynb\" target=\"_parent\"><img src=\"https://colab.research.google.com/assets/colab-badge.svg\" alt=\"Open In Colab\"/></a>"
      ]
    },
    {
      "cell_type": "markdown",
      "source": [
        "K-Means Algorithm:\n",
        "\n",
        "1.   randomly pick K points to place K centroids\n",
        "2.   assigns all of the data points to the centroids by distance\n",
        "3.   average all of the points belonging to each centroid to find middle of those clusters (aka center of mass). place corresponding centroids into that position  \n",
        "4.   reassign every point once again to closest centroid\n",
        "5.   repeat steps 3-4 until no point changes which centroid it belongs to"
      ],
      "metadata": {
        "id": "FjIGAvK3cLjq"
      }
    },
    {
      "cell_type": "markdown",
      "source": [
        "Hidden Markov Models:\n",
        "---\n",
        "HMM is finite set of states, each of which is associated with (generally multidimensional) probability distribution. Transitions among the states are governed by a set of probabilities called transition probabilities.\n",
        "\n",
        "HMM works w/ probabilities to predict future events or states. \n",
        "\n",
        "\n"
      ],
      "metadata": {
        "id": "9m0Y8zpyei4g"
      }
    },
    {
      "cell_type": "code",
      "execution_count": null,
      "metadata": {
        "colab": {
          "base_uri": "https://localhost:8080/"
        },
        "id": "xbs7T2ZtaxtR",
        "outputId": "3ef5c770-f73a-43f7-d440-7c786c4d4c0e"
      },
      "outputs": [
        {
          "output_type": "stream",
          "name": "stdout",
          "text": [
            "Colab only includes TensorFlow 2.x; %tensorflow_version has no effect.\n"
          ]
        }
      ],
      "source": [
        "%tensorflow_version 2.x"
      ]
    },
    {
      "cell_type": "code",
      "source": [
        "import tensorflow_probability as tfp\n",
        "import tensorflow as tf"
      ],
      "metadata": {
        "id": "jOibJAp3xWAN"
      },
      "execution_count": null,
      "outputs": []
    },
    {
      "cell_type": "code",
      "source": [
        "tfd = tfp.distributions #shortcut\n",
        "initial_distribution = tfd.Categorical(probs=[0.8,0.2]) #first day in our sequences has 80% chance of being cold (20% hot)\n",
        "transition_distribution = tfd.Categorical(probs=[[0.5,0.5], #the second day - if day 1 was cold, has 70% chance of also being cold (30% hot)\n",
        "                                                 [0.2, 0.8]]) #second day - else if day 1 was hot, day 2 has 80% chance of being hot (20% cold)\n",
        "observation_distribution = tfd.Normal(loc=[0.,15.], scale=[5.,10.]) #if cold day: mean = 0; std dev = 5; if hot day: mean = 15 std dev = 10\n",
        "#Loc is mean; scale is std dev\n",
        "\n"
      ],
      "metadata": {
        "id": "iy4M6KF7xcAr"
      },
      "execution_count": null,
      "outputs": []
    },
    {
      "cell_type": "code",
      "source": [
        "#Create Model:\n",
        "\n",
        "model = tfd.HiddenMarkovModel(\n",
        "    initial_distribution = initial_distribution,\n",
        "    transition_distribution = transition_distribution,\n",
        "    observation_distribution = observation_distribution,\n",
        "    num_steps=7 #How many times are we stepping thru this probability cycle in our example; how many days do we want to predict temps for\n",
        ")"
      ],
      "metadata": {
        "id": "E0lwGpbHzPEG"
      },
      "execution_count": null,
      "outputs": []
    },
    {
      "cell_type": "code",
      "source": [
        "mean = model.mean() #Calculates probability from model\n",
        "\n",
        "#Due to way TF works on lower level we need to evaluate part of the graph\n",
        "#from within a sesison to see the value of this tensor\n",
        "#In new version of TF we need to use tf.compat.v1.Session() rather than just tf.Session()\n",
        "\n",
        "with tf.compat.v1.Session() as sess:\n",
        "  print(mean.numpy())"
      ],
      "metadata": {
        "colab": {
          "base_uri": "https://localhost:8080/"
        },
        "id": "jALQSZhqzyJx",
        "outputId": "510437e5-8825-48aa-d081-10cf3f3a0056"
      },
      "execution_count": null,
      "outputs": [
        {
          "output_type": "stream",
          "name": "stdout",
          "text": [
            "[ 3.        8.4      10.02     10.506    10.651799 10.69554  10.708661]\n"
          ]
        }
      ]
    }
  ]
}